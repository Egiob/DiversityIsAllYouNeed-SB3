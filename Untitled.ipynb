{
 "cells": [
  {
   "cell_type": "code",
   "execution_count": 4,
   "id": "d06fadd6-3b25-4d2c-936b-107e1a901f75",
   "metadata": {},
   "outputs": [
    {
     "data": {
      "text/plain": [
       "<stable_baselines3.diayn.diayn.DIAYN at 0x159a96f4b50>"
      ]
     },
     "execution_count": 4,
     "metadata": {},
     "output_type": "execute_result"
    }
   ],
   "source": [
    "import os\n",
    "os.environ['CUDA_LAUNCH_BLOCKING'] = \"1\"\n",
    "\n",
    "import gym\n",
    "import numpy as np\n",
    "import torch\n",
    "import torch.nn as nn\n",
    "\n",
    "from stable_baselines3 import DIAYN\n",
    "env = gym.make(\"Pendulum-v0\")\n",
    "\n",
    "n_skills= 5\n",
    "prior = torch.distributions.Categorical(probs = 1/n_skills * torch.ones(n_skills))\n",
    "model = DIAYN(\"MlpPolicy\",\n",
    "              env, prior=prior,\n",
    "              verbose=0,\n",
    "              device='cpu',\n",
    "              tensorboard_log='./test_pendulum')\n",
    "model.learn(total_timesteps=100000, log_interval=2)\n",
    "#model.save(\"sac_pendulum\")"
   ]
  }
 ],
 "metadata": {
  "kernelspec": {
   "display_name": "Python 3",
   "language": "python",
   "name": "python3"
  },
  "language_info": {
   "codemirror_mode": {
    "name": "ipython",
    "version": 3
   },
   "file_extension": ".py",
   "mimetype": "text/x-python",
   "name": "python",
   "nbconvert_exporter": "python",
   "pygments_lexer": "ipython3",
   "version": "3.8.5"
  }
 },
 "nbformat": 4,
 "nbformat_minor": 5
}
